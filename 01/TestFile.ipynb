{
 "cells": [
  {
   "cell_type": "code",
   "execution_count": 1,
   "id": "b5d85593-1a1a-4d03-9a52-d1ce10664ddd",
   "metadata": {},
   "outputs": [
    {
     "name": "stdout",
     "output_type": "stream",
     "text": [
      "Hello world from codespace\n"
     ]
    }
   ],
   "source": [
    "print(\"Hello world from codespace\")"
   ]
  },
  {
   "cell_type": "code",
   "execution_count": null,
   "id": "2d312d3f-2106-4e7f-953f-49f2576c1a03",
   "metadata": {},
   "outputs": [],
   "source": []
  }
 ],
 "metadata": {
  "kernelspec": {
   "display_name": "Python 3 (ipykernel)",
   "language": "python",
   "name": "python3"
  },
  "language_info": {
   "codemirror_mode": {
    "name": "ipython",
    "version": 3
   },
   "file_extension": ".py",
   "mimetype": "text/x-python",
   "name": "python",
   "nbconvert_exporter": "python",
   "pygments_lexer": "ipython3",
   "version": "3.10.13"
  }
 },
 "nbformat": 4,
 "nbformat_minor": 5
}
